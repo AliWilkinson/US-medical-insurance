{
 "cells": [
  {
   "cell_type": "markdown",
   "metadata": {},
   "source": [
    "# U.S. Medical Insurance Costs"
   ]
  },
  {
   "cell_type": "code",
   "execution_count": 6,
   "metadata": {},
   "outputs": [],
   "source": [
    "import csv \n",
    "\n",
    "insurance_list = []\n",
    "with open('insurance.csv', newline='') as insurance_csv:\n",
    "    insurance_reader = csv.DictReader(insurance_csv)\n",
    "    for row in insurance_reader:\n",
    "        insurance_list.append(row)\n",
    "# print(insurance_list)"
   ]
  },
  {
   "cell_type": "code",
   "execution_count": 18,
   "metadata": {},
   "outputs": [],
   "source": [
    "ages = []\n",
    "females = 0\n",
    "males = 0\n",
    "bmis = []\n",
    "children = []\n",
    "num_of_smokers = 0\n",
    "num_of_non_smokers = 0 \n",
    "for row in insurance_list:\n",
    "    ages.append(row['age'])\n",
    "    if row['sex'] == 'female':\n",
    "        females += 1\n",
    "    else:\n",
    "        males += 1\n",
    "    bmis.append(row['bmi'])\n",
    "    children.append(row['children'])\n",
    "    if row['smoker'] == 'yes':\n",
    "        num_of_smokers += 1\n",
    "    else:\n",
    "        num_of_non_smokers += 1\n",
    "    \n",
    "    \n",
    "    "
   ]
  },
  {
   "cell_type": "code",
   "execution_count": 30,
   "metadata": {},
   "outputs": [
    {
     "name": "stdout",
     "output_type": "stream",
     "text": [
      "(32050, 8434)\n"
     ]
    }
   ],
   "source": [
    "# average costs for smokers compared with non-smokers\n",
    "def smokers_vs_non_smokers():\n",
    "    total_costs_smokers = 0 \n",
    "    total_costs_non_smokers = 0\n",
    "    for row in insurance_list:\n",
    "        if row['smoker'] == 'yes':\n",
    "            total_costs_smokers += float(row['charges'])\n",
    "        else:\n",
    "            total_costs_non_smokers += float(row['charges'])\n",
    "    avg_costs_smokers = round(total_costs_smokers / num_of_smokers)\n",
    "    avg_costs_non_smokers = round(total_costs_non_smokers / num_of_non_smokers)\n",
    "    return avg_costs_smokers, avg_costs_non_smokers\n",
    "\n",
    "print(smokers_vs_non_smokers())\n",
    "    "
   ]
  },
  {
   "cell_type": "code",
   "execution_count": null,
   "metadata": {},
   "outputs": [],
   "source": []
  }
 ],
 "metadata": {
  "kernelspec": {
   "display_name": "Python 3 (ipykernel)",
   "language": "python",
   "name": "python3"
  },
  "language_info": {
   "codemirror_mode": {
    "name": "ipython",
    "version": 3
   },
   "file_extension": ".py",
   "mimetype": "text/x-python",
   "name": "python",
   "nbconvert_exporter": "python",
   "pygments_lexer": "ipython3",
   "version": "3.9.13"
  }
 },
 "nbformat": 4,
 "nbformat_minor": 4
}
